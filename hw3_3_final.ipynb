{
 "cells": [
  {
   "cell_type": "code",
   "execution_count": 1,
   "metadata": {},
   "outputs": [
    {
     "data": {
      "text/html": [
       "<style>.container { width:100% !important; }</style>"
      ],
      "text/plain": [
       "<IPython.core.display.HTML object>"
      ]
     },
     "metadata": {},
     "output_type": "display_data"
    }
   ],
   "source": [
    "from IPython.core.display import display, HTML\n",
    "display(HTML(\"<style>.container { width:100% !important; }</style>\"))"
   ]
  },
  {
   "cell_type": "code",
   "execution_count": 8,
   "metadata": {},
   "outputs": [],
   "source": [
    "import numpy as np\n",
    "import matplotlib.pyplot as plt\n",
    "import pandas as pd\n",
    "import datetime\n",
    "from sklearn.preprocessing import MinMaxScaler\n",
    "from sklearn.model_selection import train_test_split\n",
    "import tensorflow as tf"
   ]
  },
  {
   "cell_type": "markdown",
   "metadata": {},
   "source": [
    "# Preprocess Data\n",
    "In the <b>HW3_template</b> folder you will find `TSLA.csv`, `GOOGL.csv` and `DJI.csv` files. Use Pandas (You have used it in HW1) to retrieve the dataset. Use only <b>Open</b> price as your input. (You will train three models for three different stocks, don't mix these data together!)"
   ]
  },
  {
   "cell_type": "code",
   "execution_count": 6,
   "metadata": {},
   "outputs": [
    {
     "name": "stdout",
     "output_type": "stream",
     "text": [
      "(3702, 1)\n"
     ]
    }
   ],
   "source": [
    "g_data = pd.read_csv('GOOGL.csv')\n",
    "t_data = pd.read_csv('TSLA.csv')\n",
    "d_data = pd.read_csv('DJI.csv')\n",
    "\n",
    "g_price = g_data[\"Open\"].values.reshape((-1,1))\n",
    "t_price = t_data[\"Open\"].values.reshape((-1,1))\n",
    "d_price = d_data[\"Open\"].values.reshape((-1,1))\n",
    "\n",
    "print(g_price.shape)"
   ]
  },
  {
   "cell_type": "markdown",
   "metadata": {},
   "source": [
    "## Normalize your data\n",
    "You could use `MinMaxScaler` in `sklearn.preprocessing` to normalize the data between 0 and 1."
   ]
  },
  {
   "cell_type": "code",
   "execution_count": 7,
   "metadata": {},
   "outputs": [],
   "source": [
    "scaler = MinMaxScaler()\n",
    "scaler.fit(g_price)\n",
    "g_norm = scaler.transform(g_price)\n",
    "\n",
    "scaler = MinMaxScaler()\n",
    "scaler.fit(t_price)\n",
    "t_norm = scaler.transform(t_price)\n",
    "\n",
    "scaler = MinMaxScaler()\n",
    "scaler.fit(d_price)\n",
    "d_norm = scaler.transform(d_price)"
   ]
  },
  {
   "cell_type": "markdown",
   "metadata": {},
   "source": [
    "# Split training, validation and testing data\n",
    "<p style=\"font-size:20px\">Since you will impelement a many-to-one Recurrent Neural Network model, every input data will have shape [batch_size, num_seq, input_size] and output data will have shape [batch_size, input_size] "
   ]
  },
  {
   "cell_type": "code",
   "execution_count": 10,
   "metadata": {},
   "outputs": [],
   "source": [
    "g_tr, g_val, g_test = g_norm[:int(0.8*len(g_norm))], g_norm[int(0.8*len(g_norm)):int(0.9*len(g_norm))], g_norm[int(0.9*len(g_norm)):]\n",
    "t_tr, t_val, t_test = t_norm[:int(0.8*len(t_norm))], t_norm[int(0.8*len(t_norm)):int(0.9*len(t_norm))], t_norm[int(0.9*len(t_norm)):]\n",
    "d_tr, d_val, d_test = d_norm[:int(0.8*len(d_norm))], d_norm[int(0.8*len(d_norm)):int(0.9*len(d_norm))], d_norm[int(0.9*len(d_norm)):]"
   ]
  },
  {
   "cell_type": "markdown",
   "metadata": {},
   "source": [
    "# TesnorFlow Model"
   ]
  },
  {
   "cell_type": "code",
   "execution_count": 280,
   "metadata": {},
   "outputs": [],
   "source": [
    "Tmax = 100\n",
    "inp_size = 1\n",
    "\n",
    "#Google Model:\n",
    "#rnn_units1 = 200\n",
    "#lr = 0.001\n",
    "\n",
    "#Tesla Model:\n",
    "#rnn_units1 = 100\n",
    "#lr = 0.0005\n",
    "\n",
    "rnn_units1 = 30\n",
    "lr = 0.0003\n",
    "\n",
    "tf.reset_default_graph()\n",
    "with tf.name_scope(\"data\"):\n",
    "    X = tf.placeholder(dtype=tf.float32, shape=[None, Tmax, inp_size])\n",
    "    y = tf.placeholder(dtype=tf.float32, shape=[None, 1])\n",
    "    batch_size = tf.placeholder(tf.int32, [], name='batch_size')\n",
    "\n",
    "def RNN(X):\n",
    "    cell = tf.nn.rnn_cell.LSTMCell(rnn_units1)\n",
    "    initial_state = cell.zero_state(batch_size, dtype=tf.float32)\n",
    "    output, state = tf.nn.dynamic_rnn(cell, X, initial_state=initial_state, dtype=tf.float32)\n",
    "    rnn_out = output[:,-1,:]\n",
    "    out = tf.layers.dense(rnn_out, 1, activation=tf.nn.relu, use_bias=True)\n",
    "    return out\n",
    "\n",
    "out = RNN(X)\n",
    "loss = tf.reduce_mean(tf.square(out - y))\n",
    "optimizer = tf.train.AdamOptimizer(lr)\n",
    "train_op = optimizer.minimize(loss)\n",
    "init = tf.initializers.global_variables()"
   ]
  },
  {
   "cell_type": "code",
   "execution_count": 281,
   "metadata": {},
   "outputs": [
    {
     "data": {
      "text/plain": [
       "'\\nx, y = get_batch(g_val, 1, 119, 2)\\nprint(x.shape, y.shape)\\nprint(len(g_val))\\n'"
      ]
     },
     "execution_count": 281,
     "metadata": {},
     "output_type": "execute_result"
    }
   ],
   "source": [
    "def get_batch(data, i, num_steps, batch_size):\n",
    "    num_of_batches = len(data) // batch_size # ......******------++++++^^^^^^ <- batch_size = 5, num_of_batches = 6, step_size = 2\n",
    "    num_iters = (num_of_batches - 1) // num_steps \n",
    "    X_batch = np.zeros((batch_size, num_steps)) \n",
    "    y_batch = np.zeros((batch_size,1))       \n",
    "    for j in range(batch_size): \n",
    "        batch = data[j * num_of_batches: (j + 1) * num_of_batches,:]\n",
    "        X_batch[j,:] = batch[i * num_steps: (i + 1) * num_steps,:].T\n",
    "        y_batch[j] = batch[(i + 1) * num_steps][0]\n",
    "    X_batch = np.expand_dims(X_batch, axis=2)\n",
    "    y_batch.reshape((batch_size, 1))\n",
    "    return X_batch, y_batch\n",
    "'''\n",
    "x, y = get_batch(g_val, 1, 119, 2)\n",
    "print(x.shape, y.shape)\n",
    "print(len(g_val))\n",
    "'''"
   ]
  },
  {
   "cell_type": "markdown",
   "metadata": {},
   "source": [
    "# Training"
   ]
  },
  {
   "cell_type": "code",
   "execution_count": 282,
   "metadata": {},
   "outputs": [
    {
     "name": "stdout",
     "output_type": "stream",
     "text": [
      "The training loss at 1th epoch is: 0.017\n",
      "The validation loss at 1th epoch is: 0.076\n",
      "The training loss at 2th epoch is: 0.009\n",
      "The validation loss at 2th epoch is: 0.044\n",
      "The training loss at 3th epoch is: 0.004\n",
      "The validation loss at 3th epoch is: 0.020\n",
      "The training loss at 4th epoch is: 0.003\n",
      "The validation loss at 4th epoch is: 0.006\n",
      "The training loss at 5th epoch is: 0.003\n",
      "The validation loss at 5th epoch is: 0.001\n",
      "The training loss at 6th epoch is: 0.002\n",
      "The validation loss at 6th epoch is: 0.001\n",
      "The training loss at 7th epoch is: 0.001\n",
      "The validation loss at 7th epoch is: 0.001\n",
      "The training loss at 8th epoch is: 0.001\n",
      "The validation loss at 8th epoch is: 0.002\n",
      "The training loss at 9th epoch is: 0.001\n",
      "The validation loss at 9th epoch is: 0.001\n",
      "The training loss at 10th epoch is: 0.000\n",
      "The validation loss at 10th epoch is: 0.000\n",
      "The training loss at 11th epoch is: 0.000\n",
      "The validation loss at 11th epoch is: 0.000\n",
      "The training loss at 12th epoch is: 0.000\n",
      "The validation loss at 12th epoch is: 0.000\n",
      "The training loss at 13th epoch is: 0.000\n",
      "The validation loss at 13th epoch is: 0.000\n",
      "The training loss at 14th epoch is: 0.000\n",
      "The validation loss at 14th epoch is: 0.000\n",
      "The training loss at 15th epoch is: 0.000\n",
      "The validation loss at 15th epoch is: 0.000\n",
      "The training loss at 16th epoch is: 0.000\n",
      "The validation loss at 16th epoch is: 0.000\n",
      "The training loss at 17th epoch is: 0.000\n",
      "The validation loss at 17th epoch is: 0.000\n",
      "The training loss at 18th epoch is: 0.000\n",
      "The validation loss at 18th epoch is: 0.000\n",
      "The training loss at 19th epoch is: 0.000\n",
      "The validation loss at 19th epoch is: 0.000\n",
      "The training loss at 20th epoch is: 0.000\n",
      "The validation loss at 20th epoch is: 0.000\n"
     ]
    }
   ],
   "source": [
    "epoch = 20\n",
    "tr_batch_size = 2\n",
    "val_batch_size = 1\n",
    "def num_iter(length, batch_size):\n",
    "    num_of_batches = length // batch_size\n",
    "    #print(Tmax, num_of_batches, batch_size)\n",
    "    num_iters = (num_of_batches - 1) // Tmax\n",
    "    return num_iters\n",
    "num_iters = num_iter(len(t_tr), tr_batch_size)\n",
    "val_iters = num_iter(len(t_val), val_batch_size)\n",
    "#print(val_iters)\n",
    "tr_loss_li = []\n",
    "val_loss_li = []\n",
    "saver = tf.train.Saver()\n",
    "with tf.Session() as sess:\n",
    "    sess.run(init)\n",
    "    for i in range(epoch):\n",
    "        for j in range(num_iters):\n",
    "            X_batchs, y_batchs = get_batch(d_tr, j, Tmax, tr_batch_size)\n",
    "            #print(X_batchs.shape, y_batchs.shape)\n",
    "            sess.run(train_op, feed_dict={X:X_batchs, y:y_batchs, batch_size:tr_batch_size})\n",
    "            if (j == num_iters - 1):\n",
    "                tr_loss = sess.run(loss, feed_dict={X:X_batchs, y:y_batchs, batch_size:tr_batch_size})\n",
    "                tr_loss_li.append(tr_loss)\n",
    "                print(\"The training loss at \"+str(i+1)+\"th epoch is: {:.3f}\".format(tr_loss))\n",
    "        val_loss = 0\n",
    "        count = 0\n",
    "        for k in range(val_iters):\n",
    "            X_batch, y_batch = get_batch(d_val, k, Tmax, val_batch_size)\n",
    "            #print(X_batch.shape, y_batch.shape)\n",
    "            val_loss += sess.run(loss, feed_dict={X:X_batch, y:y_batch, batch_size:val_batch_size})\n",
    "            count += 1\n",
    "        print(\"The validation loss at \"+str(i+1)+\"th epoch is: {:.3f}\".format(val_loss / count))\n",
    "        save_path = saver.save(sess, 'model.ckpt')\n",
    "    "
   ]
  },
  {
   "cell_type": "markdown",
   "metadata": {},
   "source": [
    "# Testing"
   ]
  },
  {
   "cell_type": "code",
   "execution_count": 284,
   "metadata": {},
   "outputs": [
    {
     "name": "stdout",
     "output_type": "stream",
     "text": [
      "INFO:tensorflow:Restoring parameters from model.ckpt\n",
      "The test loss is: 0.042\n"
     ]
    }
   ],
   "source": [
    "test_iters = 100\n",
    "test_batch_size = 1\n",
    "test_result = []\n",
    "ground_truth = []\n",
    "with tf.Session() as sess:\n",
    "    saver.restore(sess, \"model.ckpt\")\n",
    "    for k in range(test_iters):\n",
    "        X_batch, y_batch = np.expand_dims(d_test[k:k+100,:].T, axis=2), d_test[k+100:,]\n",
    "        ground_truth.append(y_batch[0][0])\n",
    "        val_loss += sess.run(loss, feed_dict={X:X_batch, y:y_batch, batch_size:test_batch_size})\n",
    "        pred = sess.run(out, feed_dict={X:X_batch, batch_size:test_batch_size})\n",
    "        test_result.append(np.squeeze(pred))\n",
    "        count += 1\n",
    "    print(\"The test loss is: {:.3f}\".format(val_loss / count))"
   ]
  },
  {
   "cell_type": "code",
   "execution_count": 140,
   "metadata": {},
   "outputs": [
    {
     "data": {
      "text/plain": [
       "Text(0.5, 1.0, \"Prediction on Google's stock price within 100 days\")"
      ]
     },
     "execution_count": 140,
     "metadata": {},
     "output_type": "execute_result"
    },
    {
     "data": {
      "image/png": "[encoded data removed]",
      "text/plain": [
       "<Figure size 432x288 with 1 Axes>"
      ]
     },
     "metadata": {
      "needs_background": "light"
     },
     "output_type": "display_data"
    }
   ],
   "source": [
    "fig = plt.figure()\n",
    "plt.plot(range(100), test_result, 'ro', label='Normalized test result')\n",
    "plt.plot(range(100), ground_truth, 'bo', label='Normalized ground truth')\n",
    "plt.legend(loc=0)\n",
    "plt.xlabel('days')\n",
    "plt.ylabel('price(Normalized)')\n",
    "plt.title('Prediction on Google\\'s stock price within 100 days')"
   ]
  },
  {
   "cell_type": "code",
   "execution_count": 190,
   "metadata": {},
   "outputs": [
    {
     "data": {
      "text/plain": [
       "Text(0.5, 1.0, \"Prediction on Tesla's stock price within 100 days\")"
      ]
     },
     "execution_count": 190,
     "metadata": {},
     "output_type": "execute_result"
    },
    {
     "data": {
      "image/png": "[encoded data removed]",
      "text/plain": [
       "<Figure size 432x288 with 1 Axes>"
      ]
     },
     "metadata": {
      "needs_background": "light"
     },
     "output_type": "display_data"
    }
   ],
   "source": [
    "fig = plt.figure()\n",
    "plt.plot(range(100), test_result, 'ro', label='Normalized test result')\n",
    "plt.plot(range(100), ground_truth, 'bo', label='Normalized ground truth')\n",
    "plt.legend(loc=0)\n",
    "plt.xlabel('days')\n",
    "plt.ylabel('price(Normalized)')\n",
    "plt.title('Prediction on Tesla\\'s stock price within 100 days')"
   ]
  },
  {
   "cell_type": "code",
   "execution_count": 286,
   "metadata": {},
   "outputs": [
    {
     "data": {
      "text/plain": [
       "Text(0.5, 1.0, \"Prediction on Dow Jones Industrial Average Index's stock price within 100 days\")"
      ]
     },
     "execution_count": 286,
     "metadata": {},
     "output_type": "execute_result"
    },
    {
     "data": {
      "image/png": "[encoded data removed]",
      "text/plain": [
       "<Figure size 432x288 with 1 Axes>"
      ]
     },
     "metadata": {
      "needs_background": "light"
     },
     "output_type": "display_data"
    }
   ],
   "source": [
    "fig = plt.figure()\n",
    "plt.plot(range(100), test_result, 'ro', label='Normalized test result')\n",
    "plt.plot(range(100), ground_truth, 'bo', label='Normalized ground truth')\n",
    "plt.legend(loc=0)\n",
    "plt.xlabel('days')\n",
    "plt.ylabel('price(Normalized)')\n",
    "plt.title('Prediction on Dow Jones Industrial Average Index\\'s stock price within 100 days')"
   ]
  },
  {
   "cell_type": "code",
   "execution_count": null,
   "metadata": {},
   "outputs": [],
   "source": []
  }
 ],
 "metadata": {
  "kernelspec": {
   "display_name": "Python 3",
   "language": "python",
   "name": "python3"
  },
  "language_info": {
   "codemirror_mode": {
    "name": "ipython",
    "version": 3
   },
   "file_extension": ".py",
   "mimetype": "text/x-python",
   "name": "python",
   "nbconvert_exporter": "python",
   "pygments_lexer": "ipython3",
   "version": "3.5.3"
  }
 },
 "nbformat": 4,
 "nbformat_minor": 2
}
